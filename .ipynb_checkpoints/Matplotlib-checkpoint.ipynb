{
 "cells": [
  {
   "cell_type": "code",
   "execution_count": null,
   "metadata": {},
   "outputs": [],
   "source": [
    "import matplotlib.pyplot as plt\n",
    "import numpy as np\n",
    "import pandas as pd"
   ]
  },
  {
   "cell_type": "code",
   "execution_count": null,
   "metadata": {},
   "outputs": [],
   "source": [
    "%config IPCompleter.greedy=True\n",
    "#intellisense enabled. Tab for command and Shift + Tab for function"
   ]
  },
  {
   "cell_type": "code",
   "execution_count": null,
   "metadata": {},
   "outputs": [],
   "source": [
    "year = np.array([1950, 1970, 1990, 2010])\n",
    "pop = np.array([2.519, 3.692, 5.263, 6.972])\n",
    "\n",
    "month = np.array(['Jan', 'Feb', 'Mar', 'Apr', 'May', 'Jun', 'Jul', 'Aug', 'Sep', 'Oct', 'Nov', 'Dec'])\n",
    "patna_htemp = np.array([22,27,33,37,38,36,33,33,33,32,29,24])\n",
    "patna_ltemp = np.array([9,12,17,22,25,27,26,26,25,22,15,10])\n",
    "delhi_htemp = np.array([20,24,30,37,40,39,35,34,34,33,28,22])\n",
    "delhi_ltemp = np.array([8,11,16,23,27,28,28,27,25,21,14,9])"
   ]
  },
  {
   "cell_type": "markdown",
   "metadata": {},
   "source": [
    "Line Plot used to connect line between all datapoints\n",
    "(first argument is x-axis and second is y-axis)"
   ]
  },
  {
   "cell_type": "markdown",
   "metadata": {},
   "source": [
    "'marker' argument gives the point on representation"
   ]
  },
  {
   "cell_type": "code",
   "execution_count": null,
   "metadata": {},
   "outputs": [],
   "source": [
    "plt.plot(year, pop, marker='o', linestyle='--', color='r') #world population in billions by years\n",
    "plt.xlabel('Year', color='grey')\n",
    "plt.ylabel('Population (in billions)', color='grey')\n",
    "plt.title('World Population over time')\n",
    "plt.show()"
   ]
  },
  {
   "cell_type": "code",
   "execution_count": null,
   "metadata": {},
   "outputs": [],
   "source": [
    "# high and low temps of patna in months\n",
    "plt.plot(month, patna_htemp, marker='o', label='High')\n",
    "plt.plot(month, patna_ltemp, marker='o', label='Low')\n",
    "plt.xlabel('Months', color='grey')\n",
    "plt.ylabel('Temperatures(in C°)', color='grey')\n",
    "plt.legend()\n",
    "plt.title('Average Temperatures in Patna per every month')\n",
    "plt.show()"
   ]
  },
  {
   "cell_type": "markdown",
   "metadata": {},
   "source": [
    "\n",
    "\n",
    "Scatter plot used to view indiviual datapoints"
   ]
  },
  {
   "cell_type": "code",
   "execution_count": null,
   "metadata": {},
   "outputs": [],
   "source": [
    "plt.scatter(year, pop, color='red', edgecolor='black')\n",
    "plt.xlabel('Year', color='grey')\n",
    "plt.ylabel('Population (in billions)', color='grey')\n",
    "plt.title('World Population over time')\n",
    "plt.show()"
   ]
  },
  {
   "cell_type": "code",
   "execution_count": null,
   "metadata": {},
   "outputs": [],
   "source": [
    "plt.scatter(month,patna_htemp, label='High')\n",
    "plt.scatter(month,patna_ltemp, label='Low')\n",
    "plt.ylabel('Temperature (in C°)', color='grey')\n",
    "plt.xlabel('Months', color='grey')\n",
    "plt.legend()\n",
    "plt.title('Average Temperatures in Patna per every month')\n",
    "plt.show()"
   ]
  },
  {
   "cell_type": "markdown",
   "metadata": {},
   "source": [
    "Histogram"
   ]
  },
  {
   "cell_type": "markdown",
   "metadata": {},
   "source": [
    "It takes values and divide them in declared parts(or bins) to see how many vaules are in a particular range."
   ]
  },
  {
   "cell_type": "code",
   "execution_count": null,
   "metadata": {},
   "outputs": [],
   "source": [
    "plt.hist(patna_htemp, bins=5, edgecolor='black', color='blue', linewidth=1.5)\n",
    "plt.title('High Temperatures of Patna round the year (in C°)')\n",
    "plt.show()"
   ]
  },
  {
   "cell_type": "code",
   "execution_count": null,
   "metadata": {},
   "outputs": [],
   "source": [
    "plt.hist(patna_ltemp, bins=5, color='blue', edgecolor='black', linewidth=1.5)\n",
    "plt.title('Low Temperatures of Patna round the year (in C°)')\n",
    "plt.show()"
   ]
  },
  {
   "cell_type": "markdown",
   "metadata": {},
   "source": [
    "Subplots (Small multiples)"
   ]
  },
  {
   "cell_type": "markdown",
   "metadata": {},
   "source": [
    "They are used to show multiple plots into one single plot."
   ]
  },
  {
   "cell_type": "code",
   "execution_count": null,
   "metadata": {},
   "outputs": [],
   "source": [
    "# this is needed in subplots\n",
    "fig, ax = plt.subplots(1,2, figsize = (15,3), sharex=True)\n",
    "\n",
    "ax[0].plot(month, patna_htemp, marker='o', label='High')\n",
    "ax[0].plot(month, patna_ltemp, marker='o', label='Low')\n",
    "ax[0].legend()\n",
    "ax[0].set_title('Average temperatures in Patna')\n",
    "ax[1].plot(month, patna_htemp, marker='o', label='High')\n",
    "ax[1].plot(month, patna_ltemp, marker='o', label='Low')\n",
    "ax[1].legend()\n",
    "ax[1].set_title('Average temperatures in New Delhi')\n",
    "ax[0].set_ylabel('Temperatures(in C°)', color='grey')\n",
    "ax[0].set_xlabel('Months', color='grey')\n",
    "ax[1].set_xlabel('Months', color='grey')\n",
    "plt.show()"
   ]
  },
  {
   "cell_type": "code",
   "execution_count": null,
   "metadata": {},
   "outputs": [],
   "source": [
    "df = pd.read_csv('C:/Users/NihalNamya/Python/Dataset/IRIS.csv', sep=',')"
   ]
  },
  {
   "cell_type": "code",
   "execution_count": null,
   "metadata": {},
   "outputs": [],
   "source": [
    "fig, ax = plt.subplots(1,2, figsize=(15,4))\n",
    "\n",
    "setosa = df[df['species'] == 'Iris-setosa']\n",
    "virginica = df[df['species'] == 'Iris-virginica']\n",
    "versicolor = df[df['species'] == 'Iris-versicolor']\n",
    "\n",
    "ax[0].scatter(setosa['sepal_length'], setosa['sepal_width'],label='Setosa')\n",
    "ax[0].scatter(virginica['sepal_length'], virginica['sepal_width'], label='Virginica')\n",
    "ax[0].scatter(versicolor['sepal_length'], versicolor['sepal_width'], label='Versicolor')\n",
    "ax[0].set_xlabel('Sepal Length (in cm)', color='grey')\n",
    "ax[0].set_ylabel('Sepal Width (in cm)', color='grey')\n",
    "ax[0].set_title('Iris Dataset: Sepal Lengths vs Widths')\n",
    "ax[0].legend()\n",
    "\n",
    "ax[1].scatter(setosa['petal_length'], setosa['petal_width'], label='Setosa')\n",
    "ax[1].scatter(virginica['petal_length'], virginica['petal_width'], label='Virginica')\n",
    "ax[1].scatter(versicolor['petal_length'], versicolor['petal_width'], label='Versicolor')\n",
    "ax[1].set_xlabel('Petal Length (in cm)', color='grey')\n",
    "ax[1].set_ylabel('Petal Width (in cm)', color='grey')\n",
    "ax[1].set_title('Iris Dataset: Petal Lengths vs Widths')\n",
    "ax[1].legend()\n",
    "plt.show()"
   ]
  },
  {
   "cell_type": "code",
   "execution_count": null,
   "metadata": {},
   "outputs": [],
   "source": [
    "df = pd.read_csv('C:/Users/NihalNamya/Dataset/Python/IRIS.csv', sep=',')\n",
    "corr = pd.DataFrame(df.corr())\n",
    "plt.imshow(corr, cmap='Blues')\n",
    "plt.colorbar()\n",
    "plt.xticks(range(len(corr)),corr.columns, rotation=20)\n",
    "plt.yticks(range(len(corr)),corr.index)\n",
    "plt.show()"
   ]
  },
  {
   "cell_type": "code",
   "execution_count": null,
   "metadata": {},
   "outputs": [],
   "source": []
  }
 ],
 "metadata": {
  "kernelspec": {
   "display_name": "Python 3.7.6 64-bit ('base': conda)",
   "language": "python",
   "name": "python37664bitbasecondadd79055883bb463197553ca5b464b9d4"
  },
  "language_info": {
   "codemirror_mode": {
    "name": "ipython",
    "version": 3
   },
   "file_extension": ".py",
   "mimetype": "text/x-python",
   "name": "python",
   "nbconvert_exporter": "python",
   "pygments_lexer": "ipython3",
   "version": "3.7.6"
  }
 },
 "nbformat": 4,
 "nbformat_minor": 4
}
