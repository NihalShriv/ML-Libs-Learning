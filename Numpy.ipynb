{
 "cells": [
  {
   "cell_type": "code",
   "execution_count": 1,
   "metadata": {},
   "outputs": [],
   "source": [
    "import numpy as np"
   ]
  },
  {
   "cell_type": "code",
   "execution_count": 2,
   "metadata": {},
   "outputs": [
    {
     "name": "stdout",
     "output_type": "stream",
     "text": [
      "[1 2 3 4 5 6]\n",
      "<class 'numpy.ndarray'>\n"
     ]
    }
   ],
   "source": [
    "arr = np.array([1,2,3,4,5,6])\n",
    "\n",
    "print(arr)\n",
    "print(type(arr))"
   ]
  },
  {
   "cell_type": "code",
   "execution_count": 3,
   "metadata": {},
   "outputs": [
    {
     "name": "stdout",
     "output_type": "stream",
     "text": [
      "[[1 2 3]\n",
      " [4 5 6]]\n"
     ]
    }
   ],
   "source": [
    "arr2 = np.array([[1,2,3], [4,5,6]])\n",
    "\n",
    "print(arr2)"
   ]
  },
  {
   "cell_type": "code",
   "execution_count": 4,
   "metadata": {},
   "outputs": [
    {
     "name": "stdout",
     "output_type": "stream",
     "text": [
      "2\n"
     ]
    }
   ],
   "source": [
    "#Check Number of Dimensions\n",
    "print(arr2.ndim)"
   ]
  },
  {
   "cell_type": "code",
   "execution_count": 5,
   "metadata": {},
   "outputs": [
    {
     "name": "stdout",
     "output_type": "stream",
     "text": [
      "5\n"
     ]
    }
   ],
   "source": [
    "#create 'n' no. of dimensional array\n",
    "arr5 = np.array([1,2,3,4,5], ndmin=5)\n",
    "print(arr5.ndim)"
   ]
  },
  {
   "cell_type": "code",
   "execution_count": 6,
   "metadata": {},
   "outputs": [
    {
     "name": "stdout",
     "output_type": "stream",
     "text": [
      "1\n",
      "5\n",
      "6\n"
     ]
    }
   ],
   "source": [
    "print(arr[0])\n",
    "print(arr2[1,1])\n",
    "print(arr2[1,-1])"
   ]
  },
  {
   "cell_type": "code",
   "execution_count": 7,
   "metadata": {},
   "outputs": [
    {
     "name": "stdout",
     "output_type": "stream",
     "text": [
      "7\n"
     ]
    }
   ],
   "source": [
    "print(arr[2] + arr[3])"
   ]
  },
  {
   "cell_type": "code",
   "execution_count": 8,
   "metadata": {},
   "outputs": [
    {
     "name": "stdout",
     "output_type": "stream",
     "text": [
      "[2 3]\n"
     ]
    }
   ],
   "source": [
    "print(arr[1:3])"
   ]
  },
  {
   "cell_type": "code",
   "execution_count": 9,
   "metadata": {},
   "outputs": [
    {
     "name": "stdout",
     "output_type": "stream",
     "text": [
      "[2 4]\n"
     ]
    }
   ],
   "source": [
    "print(arr[1:5:2])"
   ]
  },
  {
   "cell_type": "code",
   "execution_count": 10,
   "metadata": {},
   "outputs": [
    {
     "name": "stdout",
     "output_type": "stream",
     "text": [
      "int32\n",
      "<U1\n",
      "<U11\n"
     ]
    }
   ],
   "source": [
    "#numpy datatype\n",
    "print(arr.dtype)\n",
    "print(np.array(['a','b','c']).dtype)\n",
    "print(np.array([1,'b','c']).dtype)"
   ]
  },
  {
   "cell_type": "code",
   "execution_count": 11,
   "metadata": {},
   "outputs": [
    {
     "name": "stdout",
     "output_type": "stream",
     "text": [
      "[1. 2. 3.]\n"
     ]
    }
   ],
   "source": [
    "#it will change any data entered to assigned datatype\n",
    "print(np.array([1,2,3], dtype='f'))"
   ]
  },
  {
   "cell_type": "code",
   "execution_count": 12,
   "metadata": {},
   "outputs": [
    {
     "name": "stdout",
     "output_type": "stream",
     "text": [
      "(2, 3)\n"
     ]
    }
   ],
   "source": [
    "#shape of array\n",
    "# first refers to no. of dimensions and second refers to no. of elements in each dimension\n",
    "# NOTE: it won't show no. of elements unless it is equal in every dimension\n",
    "print(np.array([[1,2,3], [4,5,6]]).shape)"
   ]
  },
  {
   "cell_type": "code",
   "execution_count": 13,
   "metadata": {},
   "outputs": [
    {
     "name": "stdout",
     "output_type": "stream",
     "text": [
      "1\n",
      "2\n",
      "3\n",
      "4\n",
      "5\n",
      "6\n"
     ]
    }
   ],
   "source": [
    "# iterating through ndarray. it iterate thorugh 'n' dimensions without nested loops \n",
    "for x in np.nditer(arr):\n",
    "    print(x)"
   ]
  },
  {
   "cell_type": "code",
   "execution_count": 14,
   "metadata": {},
   "outputs": [
    {
     "name": "stdout",
     "output_type": "stream",
     "text": [
      "1.0\n",
      "2.0\n",
      "3.0\n",
      "4.0\n",
      "5.0\n",
      "6.0\n"
     ]
    }
   ],
   "source": [
    "# iterating through ndarray while changing datatype only temporarily\n",
    "for x in np.nditer(arr, flags=['buffered'], op_dtypes=['float']):\n",
    "    print(x)"
   ]
  },
  {
   "cell_type": "code",
   "execution_count": 15,
   "metadata": {},
   "outputs": [
    {
     "name": "stdout",
     "output_type": "stream",
     "text": [
      "(0, 0) 1\n",
      "(0, 1) 2\n",
      "(0, 2) 3\n",
      "(1, 0) 4\n",
      "(1, 1) 5\n",
      "(1, 2) 6\n"
     ]
    }
   ],
   "source": [
    "# it iterate through ndarray along with naming its position(index)\n",
    "for idx, x in np.ndenumerate(arr2):\n",
    "    print(idx, x)"
   ]
  },
  {
   "cell_type": "code",
   "execution_count": 16,
   "metadata": {},
   "outputs": [
    {
     "name": "stdout",
     "output_type": "stream",
     "text": [
      "[['a' 'b' 'e' 'f']\n",
      " ['c' 'd' 'g' 'h']]\n"
     ]
    }
   ],
   "source": [
    "def con():\n",
    "    a = np.array([['a','b'],['c','d']])\n",
    "    b = np.array([['e','f'],['g','h']])\n",
    "    print(np.concatenate((a,b),axis=1))\n",
    "con()"
   ]
  },
  {
   "cell_type": "code",
   "execution_count": 17,
   "metadata": {},
   "outputs": [
    {
     "name": "stdout",
     "output_type": "stream",
     "text": [
      "[[1 4]\n",
      " [2 5]\n",
      " [3 6]]\n"
     ]
    }
   ],
   "source": [
    "def stack():\n",
    "    arr1 = np.array([1, 2, 3])\n",
    "    arr2 = np.array([4, 5, 6])\n",
    "    arr = np.stack((arr1, arr2), axis=1)\n",
    "    print(arr)\n",
    "stack()"
   ]
  },
  {
   "cell_type": "code",
   "execution_count": 18,
   "metadata": {},
   "outputs": [
    {
     "name": "stdout",
     "output_type": "stream",
     "text": [
      "[1 2]\n",
      "[3 4]\n",
      "[5 6]\n",
      "\n",
      "\n",
      "[1 2 3]\n",
      "[4 5]\n",
      "[6 7]\n",
      "[8 9]\n"
     ]
    }
   ],
   "source": [
    "# splits the array in 'n' parts. NOTE: it only works if array can be equally divided\n",
    "def split():\n",
    "    arr = np.array([1,2,3,4,5,6])\n",
    "    newarr = np.split(arr, 3)\n",
    "    for x in newarr:\n",
    "        print(x)\n",
    "    print('\\n')\n",
    "split()\n",
    "\n",
    "# array_split works even if array cannot be equally divided\n",
    "def arr_split():\n",
    "    arr = np.array([1,2,3,4,5,6,7,8,9])\n",
    "    newarr = np.array_split(arr,4)\n",
    "    for x in newarr:\n",
    "        print(x)\n",
    "arr_split()"
   ]
  },
  {
   "cell_type": "code",
   "execution_count": 19,
   "metadata": {},
   "outputs": [
    {
     "name": "stdout",
     "output_type": "stream",
     "text": [
      "(array([3, 6, 7], dtype=int64),)\n",
      "(array([1, 3, 5, 6, 7], dtype=int64),)\n"
     ]
    }
   ],
   "source": [
    "# searching on which index is the given condition is\n",
    "def search():\n",
    "    arr = np.array([1,2,3,4,5,6,4,4])\n",
    "    print(np.where(arr == 4))\n",
    "    print(np.where(arr%2 == 0))\n",
    "search()"
   ]
  },
  {
   "cell_type": "code",
   "execution_count": 20,
   "metadata": {},
   "outputs": [
    {
     "name": "stdout",
     "output_type": "stream",
     "text": [
      "1\n"
     ]
    }
   ],
   "source": [
    "# it is used to find suitable indices where number would be inseted for maintaining sorted array\n",
    "def searchsort():\n",
    "    arr = np.array([6, 8, 7, 9])\n",
    "    x = np.searchsorted(arr, 7)\n",
    "    print(x)\n",
    "searchsort()"
   ]
  },
  {
   "cell_type": "code",
   "execution_count": 22,
   "metadata": {},
   "outputs": [
    {
     "name": "stdout",
     "output_type": "stream",
     "text": [
      "[43 44]\n"
     ]
    }
   ],
   "source": [
    "def filter():\n",
    "    arr = np.array([41,42,43,44])\n",
    "    print(arr[arr > 42])\n",
    "filter()"
   ]
  },
  {
   "cell_type": "code",
   "execution_count": 30,
   "metadata": {},
   "outputs": [
    {
     "name": "stdout",
     "output_type": "stream",
     "text": [
      "23\n",
      "0.48460395667195444\n",
      "[52 65 57 26]\n"
     ]
    }
   ],
   "source": [
    "def random():\n",
    "    print(np.random.randint(100)) # random integer from 0 to 100\n",
    "    print(np.random.rand()) # random float from 0 to 1\n",
    "    print(np.random.randint(100, size=(4))) # array containing random 4 integers\n",
    "random()"
   ]
  },
  {
   "cell_type": "code",
   "execution_count": 33,
   "metadata": {},
   "outputs": [
    {
     "name": "stdout",
     "output_type": "stream",
     "text": [
      "9\n"
     ]
    }
   ],
   "source": [
    "def choice():\n",
    "    print(np.random.choice([3,7,1,9])) # picking random element from given array\n",
    "choice()"
   ]
  },
  {
   "cell_type": "code",
   "execution_count": null,
   "metadata": {},
   "outputs": [],
   "source": []
  }
 ],
 "metadata": {
  "kernelspec": {
   "display_name": "Python 3.7.6 64-bit ('base': conda)",
   "language": "python",
   "name": "python37664bitbasecondadd79055883bb463197553ca5b464b9d4"
  },
  "language_info": {
   "codemirror_mode": {
    "name": "ipython",
    "version": 3
   },
   "file_extension": ".py",
   "mimetype": "text/x-python",
   "name": "python",
   "nbconvert_exporter": "python",
   "pygments_lexer": "ipython3",
   "version": "3.7.6"
  }
 },
 "nbformat": 4,
 "nbformat_minor": 4
}
