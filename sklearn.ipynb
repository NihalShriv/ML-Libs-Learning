{
  "nbformat": 4,
  "nbformat_minor": 0,
  "metadata": {
    "colab": {
      "name": "sklearn.ipynb",
      "provenance": [],
      "collapsed_sections": [],
      "authorship_tag": "ABX9TyM14elbxJfd6q5cyVkEaeRg"
    },
    "kernelspec": {
      "name": "python3",
      "display_name": "Python 3"
    }
  },
  "cells": [
    {
      "cell_type": "code",
      "metadata": {
        "id": "kAYCpBrcotRm",
        "colab_type": "code",
        "colab": {
          "base_uri": "https://localhost:8080/",
          "height": 71
        },
        "outputId": "e6f91637-f77b-4a18-f4e1-1c09e1fec50d"
      },
      "source": [
        "import pandas as pd\n",
        "import matplotlib.pyplot as plt\n",
        "import seaborn as sns\n",
        "import numpy as np\n",
        "sns.set_style('whitegrid', {'axes.grid' : False})"
      ],
      "execution_count": 2,
      "outputs": [
        {
          "output_type": "stream",
          "text": [
            "/usr/local/lib/python3.6/dist-packages/statsmodels/tools/_testing.py:19: FutureWarning: pandas.util.testing is deprecated. Use the functions in the public API at pandas.testing instead.\n",
            "  import pandas.util.testing as tm\n"
          ],
          "name": "stderr"
        }
      ]
    },
    {
      "cell_type": "code",
      "metadata": {
        "id": "xb3Km7XTo-Zx",
        "colab_type": "code",
        "colab": {}
      },
      "source": [
        "sales_data = pd.read_csv(\"https://www.cameronvetter.com/wp-content/uploads/2018/07/WA_Fn-UseC_-Sales-Win-Loss.csv\")"
      ],
      "execution_count": 3,
      "outputs": []
    },
    {
      "cell_type": "code",
      "metadata": {
        "id": "87Qxp6XXpIF8",
        "colab_type": "code",
        "colab": {
          "base_uri": "https://localhost:8080/",
          "height": 394
        },
        "outputId": "0da7ac61-bd28-4a96-9b93-df28c196e201"
      },
      "source": [
        "sales_data.head()"
      ],
      "execution_count": 4,
      "outputs": [
        {
          "output_type": "execute_result",
          "data": {
            "text/html": [
              "<div>\n",
              "<style scoped>\n",
              "    .dataframe tbody tr th:only-of-type {\n",
              "        vertical-align: middle;\n",
              "    }\n",
              "\n",
              "    .dataframe tbody tr th {\n",
              "        vertical-align: top;\n",
              "    }\n",
              "\n",
              "    .dataframe thead th {\n",
              "        text-align: right;\n",
              "    }\n",
              "</style>\n",
              "<table border=\"1\" class=\"dataframe\">\n",
              "  <thead>\n",
              "    <tr style=\"text-align: right;\">\n",
              "      <th></th>\n",
              "      <th>Opportunity Number</th>\n",
              "      <th>Supplies Subgroup</th>\n",
              "      <th>Supplies Group</th>\n",
              "      <th>Region</th>\n",
              "      <th>Route To Market</th>\n",
              "      <th>Elapsed Days In Sales Stage</th>\n",
              "      <th>Opportunity Result</th>\n",
              "      <th>Sales Stage Change Count</th>\n",
              "      <th>Total Days Identified Through Closing</th>\n",
              "      <th>Total Days Identified Through Qualified</th>\n",
              "      <th>Opportunity Amount USD</th>\n",
              "      <th>Client Size By Revenue</th>\n",
              "      <th>Client Size By Employee Count</th>\n",
              "      <th>Revenue From Client Past Two Years</th>\n",
              "      <th>Competitor Type</th>\n",
              "      <th>Ratio Days Identified To Total Days</th>\n",
              "      <th>Ratio Days Validated To Total Days</th>\n",
              "      <th>Ratio Days Qualified To Total Days</th>\n",
              "      <th>Deal Size Category</th>\n",
              "    </tr>\n",
              "  </thead>\n",
              "  <tbody>\n",
              "    <tr>\n",
              "      <th>0</th>\n",
              "      <td>1641984</td>\n",
              "      <td>Exterior Accessories</td>\n",
              "      <td>Car Accessories</td>\n",
              "      <td>Northwest</td>\n",
              "      <td>Fields Sales</td>\n",
              "      <td>76</td>\n",
              "      <td>Won</td>\n",
              "      <td>13</td>\n",
              "      <td>104</td>\n",
              "      <td>101</td>\n",
              "      <td>0</td>\n",
              "      <td>5</td>\n",
              "      <td>5</td>\n",
              "      <td>0</td>\n",
              "      <td>Unknown</td>\n",
              "      <td>0.69636</td>\n",
              "      <td>0.113985</td>\n",
              "      <td>0.154215</td>\n",
              "      <td>1</td>\n",
              "    </tr>\n",
              "    <tr>\n",
              "      <th>1</th>\n",
              "      <td>1658010</td>\n",
              "      <td>Exterior Accessories</td>\n",
              "      <td>Car Accessories</td>\n",
              "      <td>Pacific</td>\n",
              "      <td>Reseller</td>\n",
              "      <td>63</td>\n",
              "      <td>Loss</td>\n",
              "      <td>2</td>\n",
              "      <td>163</td>\n",
              "      <td>163</td>\n",
              "      <td>0</td>\n",
              "      <td>3</td>\n",
              "      <td>5</td>\n",
              "      <td>0</td>\n",
              "      <td>Unknown</td>\n",
              "      <td>0.00000</td>\n",
              "      <td>1.000000</td>\n",
              "      <td>0.000000</td>\n",
              "      <td>1</td>\n",
              "    </tr>\n",
              "    <tr>\n",
              "      <th>2</th>\n",
              "      <td>1674737</td>\n",
              "      <td>Motorcycle Parts</td>\n",
              "      <td>Performance &amp; Non-auto</td>\n",
              "      <td>Pacific</td>\n",
              "      <td>Reseller</td>\n",
              "      <td>24</td>\n",
              "      <td>Won</td>\n",
              "      <td>7</td>\n",
              "      <td>82</td>\n",
              "      <td>82</td>\n",
              "      <td>7750</td>\n",
              "      <td>1</td>\n",
              "      <td>1</td>\n",
              "      <td>0</td>\n",
              "      <td>Unknown</td>\n",
              "      <td>1.00000</td>\n",
              "      <td>0.000000</td>\n",
              "      <td>0.000000</td>\n",
              "      <td>1</td>\n",
              "    </tr>\n",
              "    <tr>\n",
              "      <th>3</th>\n",
              "      <td>1675224</td>\n",
              "      <td>Shelters &amp; RV</td>\n",
              "      <td>Performance &amp; Non-auto</td>\n",
              "      <td>Midwest</td>\n",
              "      <td>Reseller</td>\n",
              "      <td>16</td>\n",
              "      <td>Loss</td>\n",
              "      <td>5</td>\n",
              "      <td>124</td>\n",
              "      <td>124</td>\n",
              "      <td>0</td>\n",
              "      <td>1</td>\n",
              "      <td>1</td>\n",
              "      <td>0</td>\n",
              "      <td>Known</td>\n",
              "      <td>1.00000</td>\n",
              "      <td>0.000000</td>\n",
              "      <td>0.000000</td>\n",
              "      <td>1</td>\n",
              "    </tr>\n",
              "    <tr>\n",
              "      <th>4</th>\n",
              "      <td>1689785</td>\n",
              "      <td>Exterior Accessories</td>\n",
              "      <td>Car Accessories</td>\n",
              "      <td>Pacific</td>\n",
              "      <td>Reseller</td>\n",
              "      <td>69</td>\n",
              "      <td>Loss</td>\n",
              "      <td>11</td>\n",
              "      <td>91</td>\n",
              "      <td>13</td>\n",
              "      <td>69756</td>\n",
              "      <td>1</td>\n",
              "      <td>1</td>\n",
              "      <td>0</td>\n",
              "      <td>Unknown</td>\n",
              "      <td>0.00000</td>\n",
              "      <td>0.141125</td>\n",
              "      <td>0.000000</td>\n",
              "      <td>4</td>\n",
              "    </tr>\n",
              "  </tbody>\n",
              "</table>\n",
              "</div>"
            ],
            "text/plain": [
              "   Opportunity Number  ... Deal Size Category\n",
              "0             1641984  ...                  1\n",
              "1             1658010  ...                  1\n",
              "2             1674737  ...                  1\n",
              "3             1675224  ...                  1\n",
              "4             1689785  ...                  4\n",
              "\n",
              "[5 rows x 19 columns]"
            ]
          },
          "metadata": {
            "tags": []
          },
          "execution_count": 4
        }
      ]
    },
    {
      "cell_type": "code",
      "metadata": {
        "id": "UxQlyTL1p79y",
        "colab_type": "code",
        "colab": {
          "base_uri": "https://localhost:8080/",
          "height": 334
        },
        "outputId": "12189e8f-2c98-4888-936a-42f0ebdfadba"
      },
      "source": [
        "plt.figure(figsize=(15,5))\n",
        "sns.countplot('Route To Market',data=sales_data, hue='Opportunity Result')\n",
        "plt.ylabel(ylabel='Count')\n",
        "plt.show()"
      ],
      "execution_count": 5,
      "outputs": [
        {
          "output_type": "display_data",
          "data": {
            "image/png": "[encoded data removed]",
            "text/plain": [
              "<Figure size 1080x360 with 1 Axes>"
            ]
          },
          "metadata": {
            "tags": []
          }
        }
      ]
    },
    {
      "cell_type": "code",
      "metadata": {
        "id": "b5xc0bobnexk",
        "colab_type": "code",
        "colab": {
          "base_uri": "https://localhost:8080/",
          "height": 388
        },
        "outputId": "7491bea9-0d2a-48c9-9079-0e88b0696461"
      },
      "source": [
        "plt.figure(figsize=(8,6))\n",
        "sns.violinplot(x=\"Opportunity Result\",y=\"Client Size By Revenue\", data=sales_data)\n",
        "plt.show()"
      ],
      "execution_count": 6,
      "outputs": [
        {
          "output_type": "display_data",
          "data": {
            "image/png": "[encoded data removed]",
            "text/plain": [
              "<Figure size 576x432 with 1 Axes>"
            ]
          },
          "metadata": {
            "tags": []
          }
        }
      ]
    },
    {
      "cell_type": "code",
      "metadata": {
        "id": "12RMJNuXsL2G",
        "colab_type": "code",
        "colab": {
          "base_uri": "https://localhost:8080/",
          "height": 309
        },
        "outputId": "70331d26-a4ae-4e4e-f21a-40d914bb289c"
      },
      "source": [
        "from sklearn import preprocessing\n",
        "le = preprocessing.LabelEncoder()\n",
        "num_sales_data = pd.DataFrame(sales_data)\n",
        "#convert the categorical columns into numeric since sklearn only understands numeric data\n",
        "num_sales_data['Supplies Subgroup'] = le.fit_transform(sales_data['Supplies Subgroup'])\n",
        "num_sales_data['Region'] = le.fit_transform(sales_data['Region'])\n",
        "num_sales_data['Route To Market'] = le.fit_transform(sales_data['Route To Market'])\n",
        "num_sales_data['Opportunity Result'] = le.fit_transform(sales_data['Opportunity Result'])\n",
        "num_sales_data['Competitor Type'] = le.fit_transform(sales_data['Competitor Type'])\n",
        "num_sales_data['Supplies Group'] = le.fit_transform(sales_data['Supplies Group'])\n",
        "#display the initial records\n",
        "num_sales_data.head()"
      ],
      "execution_count": 7,
      "outputs": [
        {
          "output_type": "execute_result",
          "data": {
            "text/html": [
              "<div>\n",
              "<style scoped>\n",
              "    .dataframe tbody tr th:only-of-type {\n",
              "        vertical-align: middle;\n",
              "    }\n",
              "\n",
              "    .dataframe tbody tr th {\n",
              "        vertical-align: top;\n",
              "    }\n",
              "\n",
              "    .dataframe thead th {\n",
              "        text-align: right;\n",
              "    }\n",
              "</style>\n",
              "<table border=\"1\" class=\"dataframe\">\n",
              "  <thead>\n",
              "    <tr style=\"text-align: right;\">\n",
              "      <th></th>\n",
              "      <th>Opportunity Number</th>\n",
              "      <th>Supplies Subgroup</th>\n",
              "      <th>Supplies Group</th>\n",
              "      <th>Region</th>\n",
              "      <th>Route To Market</th>\n",
              "      <th>Elapsed Days In Sales Stage</th>\n",
              "      <th>Opportunity Result</th>\n",
              "      <th>Sales Stage Change Count</th>\n",
              "      <th>Total Days Identified Through Closing</th>\n",
              "      <th>Total Days Identified Through Qualified</th>\n",
              "      <th>Opportunity Amount USD</th>\n",
              "      <th>Client Size By Revenue</th>\n",
              "      <th>Client Size By Employee Count</th>\n",
              "      <th>Revenue From Client Past Two Years</th>\n",
              "      <th>Competitor Type</th>\n",
              "      <th>Ratio Days Identified To Total Days</th>\n",
              "      <th>Ratio Days Validated To Total Days</th>\n",
              "      <th>Ratio Days Qualified To Total Days</th>\n",
              "      <th>Deal Size Category</th>\n",
              "    </tr>\n",
              "  </thead>\n",
              "  <tbody>\n",
              "    <tr>\n",
              "      <th>0</th>\n",
              "      <td>1641984</td>\n",
              "      <td>2</td>\n",
              "      <td>0</td>\n",
              "      <td>3</td>\n",
              "      <td>0</td>\n",
              "      <td>76</td>\n",
              "      <td>1</td>\n",
              "      <td>13</td>\n",
              "      <td>104</td>\n",
              "      <td>101</td>\n",
              "      <td>0</td>\n",
              "      <td>5</td>\n",
              "      <td>5</td>\n",
              "      <td>0</td>\n",
              "      <td>2</td>\n",
              "      <td>0.69636</td>\n",
              "      <td>0.113985</td>\n",
              "      <td>0.154215</td>\n",
              "      <td>1</td>\n",
              "    </tr>\n",
              "    <tr>\n",
              "      <th>1</th>\n",
              "      <td>1658010</td>\n",
              "      <td>2</td>\n",
              "      <td>0</td>\n",
              "      <td>4</td>\n",
              "      <td>2</td>\n",
              "      <td>63</td>\n",
              "      <td>0</td>\n",
              "      <td>2</td>\n",
              "      <td>163</td>\n",
              "      <td>163</td>\n",
              "      <td>0</td>\n",
              "      <td>3</td>\n",
              "      <td>5</td>\n",
              "      <td>0</td>\n",
              "      <td>2</td>\n",
              "      <td>0.00000</td>\n",
              "      <td>1.000000</td>\n",
              "      <td>0.000000</td>\n",
              "      <td>1</td>\n",
              "    </tr>\n",
              "    <tr>\n",
              "      <th>2</th>\n",
              "      <td>1674737</td>\n",
              "      <td>5</td>\n",
              "      <td>2</td>\n",
              "      <td>4</td>\n",
              "      <td>2</td>\n",
              "      <td>24</td>\n",
              "      <td>1</td>\n",
              "      <td>7</td>\n",
              "      <td>82</td>\n",
              "      <td>82</td>\n",
              "      <td>7750</td>\n",
              "      <td>1</td>\n",
              "      <td>1</td>\n",
              "      <td>0</td>\n",
              "      <td>2</td>\n",
              "      <td>1.00000</td>\n",
              "      <td>0.000000</td>\n",
              "      <td>0.000000</td>\n",
              "      <td>1</td>\n",
              "    </tr>\n",
              "    <tr>\n",
              "      <th>3</th>\n",
              "      <td>1675224</td>\n",
              "      <td>8</td>\n",
              "      <td>2</td>\n",
              "      <td>1</td>\n",
              "      <td>2</td>\n",
              "      <td>16</td>\n",
              "      <td>0</td>\n",
              "      <td>5</td>\n",
              "      <td>124</td>\n",
              "      <td>124</td>\n",
              "      <td>0</td>\n",
              "      <td>1</td>\n",
              "      <td>1</td>\n",
              "      <td>0</td>\n",
              "      <td>0</td>\n",
              "      <td>1.00000</td>\n",
              "      <td>0.000000</td>\n",
              "      <td>0.000000</td>\n",
              "      <td>1</td>\n",
              "    </tr>\n",
              "    <tr>\n",
              "      <th>4</th>\n",
              "      <td>1689785</td>\n",
              "      <td>2</td>\n",
              "      <td>0</td>\n",
              "      <td>4</td>\n",
              "      <td>2</td>\n",
              "      <td>69</td>\n",
              "      <td>0</td>\n",
              "      <td>11</td>\n",
              "      <td>91</td>\n",
              "      <td>13</td>\n",
              "      <td>69756</td>\n",
              "      <td>1</td>\n",
              "      <td>1</td>\n",
              "      <td>0</td>\n",
              "      <td>2</td>\n",
              "      <td>0.00000</td>\n",
              "      <td>0.141125</td>\n",
              "      <td>0.000000</td>\n",
              "      <td>4</td>\n",
              "    </tr>\n",
              "  </tbody>\n",
              "</table>\n",
              "</div>"
            ],
            "text/plain": [
              "   Opportunity Number  ...  Deal Size Category\n",
              "0             1641984  ...                   1\n",
              "1             1658010  ...                   1\n",
              "2             1674737  ...                   1\n",
              "3             1675224  ...                   1\n",
              "4             1689785  ...                   4\n",
              "\n",
              "[5 rows x 19 columns]"
            ]
          },
          "metadata": {
            "tags": []
          },
          "execution_count": 7
        }
      ]
    },
    {
      "cell_type": "code",
      "metadata": {
        "id": "2EAp3lKouGbC",
        "colab_type": "code",
        "colab": {
          "base_uri": "https://localhost:8080/",
          "height": 309
        },
        "outputId": "acea3a3b-df18-4b4d-b601-75ca14b9a42f"
      },
      "source": [
        "#droping columns which we don't need\n",
        "cols = [col for col in num_sales_data.columns if col not in ['Opportunity Number','Opportunity Result']]\n",
        "data = num_sales_data[cols]\n",
        "#assigning the Oppurtunity Result column as target\n",
        "target = num_sales_data['Opportunity Result']\n",
        "data.head()"
      ],
      "execution_count": 8,
      "outputs": [
        {
          "output_type": "execute_result",
          "data": {
            "text/html": [
              "<div>\n",
              "<style scoped>\n",
              "    .dataframe tbody tr th:only-of-type {\n",
              "        vertical-align: middle;\n",
              "    }\n",
              "\n",
              "    .dataframe tbody tr th {\n",
              "        vertical-align: top;\n",
              "    }\n",
              "\n",
              "    .dataframe thead th {\n",
              "        text-align: right;\n",
              "    }\n",
              "</style>\n",
              "<table border=\"1\" class=\"dataframe\">\n",
              "  <thead>\n",
              "    <tr style=\"text-align: right;\">\n",
              "      <th></th>\n",
              "      <th>Supplies Subgroup</th>\n",
              "      <th>Supplies Group</th>\n",
              "      <th>Region</th>\n",
              "      <th>Route To Market</th>\n",
              "      <th>Elapsed Days In Sales Stage</th>\n",
              "      <th>Sales Stage Change Count</th>\n",
              "      <th>Total Days Identified Through Closing</th>\n",
              "      <th>Total Days Identified Through Qualified</th>\n",
              "      <th>Opportunity Amount USD</th>\n",
              "      <th>Client Size By Revenue</th>\n",
              "      <th>Client Size By Employee Count</th>\n",
              "      <th>Revenue From Client Past Two Years</th>\n",
              "      <th>Competitor Type</th>\n",
              "      <th>Ratio Days Identified To Total Days</th>\n",
              "      <th>Ratio Days Validated To Total Days</th>\n",
              "      <th>Ratio Days Qualified To Total Days</th>\n",
              "      <th>Deal Size Category</th>\n",
              "    </tr>\n",
              "  </thead>\n",
              "  <tbody>\n",
              "    <tr>\n",
              "      <th>0</th>\n",
              "      <td>2</td>\n",
              "      <td>0</td>\n",
              "      <td>3</td>\n",
              "      <td>0</td>\n",
              "      <td>76</td>\n",
              "      <td>13</td>\n",
              "      <td>104</td>\n",
              "      <td>101</td>\n",
              "      <td>0</td>\n",
              "      <td>5</td>\n",
              "      <td>5</td>\n",
              "      <td>0</td>\n",
              "      <td>2</td>\n",
              "      <td>0.69636</td>\n",
              "      <td>0.113985</td>\n",
              "      <td>0.154215</td>\n",
              "      <td>1</td>\n",
              "    </tr>\n",
              "    <tr>\n",
              "      <th>1</th>\n",
              "      <td>2</td>\n",
              "      <td>0</td>\n",
              "      <td>4</td>\n",
              "      <td>2</td>\n",
              "      <td>63</td>\n",
              "      <td>2</td>\n",
              "      <td>163</td>\n",
              "      <td>163</td>\n",
              "      <td>0</td>\n",
              "      <td>3</td>\n",
              "      <td>5</td>\n",
              "      <td>0</td>\n",
              "      <td>2</td>\n",
              "      <td>0.00000</td>\n",
              "      <td>1.000000</td>\n",
              "      <td>0.000000</td>\n",
              "      <td>1</td>\n",
              "    </tr>\n",
              "    <tr>\n",
              "      <th>2</th>\n",
              "      <td>5</td>\n",
              "      <td>2</td>\n",
              "      <td>4</td>\n",
              "      <td>2</td>\n",
              "      <td>24</td>\n",
              "      <td>7</td>\n",
              "      <td>82</td>\n",
              "      <td>82</td>\n",
              "      <td>7750</td>\n",
              "      <td>1</td>\n",
              "      <td>1</td>\n",
              "      <td>0</td>\n",
              "      <td>2</td>\n",
              "      <td>1.00000</td>\n",
              "      <td>0.000000</td>\n",
              "      <td>0.000000</td>\n",
              "      <td>1</td>\n",
              "    </tr>\n",
              "    <tr>\n",
              "      <th>3</th>\n",
              "      <td>8</td>\n",
              "      <td>2</td>\n",
              "      <td>1</td>\n",
              "      <td>2</td>\n",
              "      <td>16</td>\n",
              "      <td>5</td>\n",
              "      <td>124</td>\n",
              "      <td>124</td>\n",
              "      <td>0</td>\n",
              "      <td>1</td>\n",
              "      <td>1</td>\n",
              "      <td>0</td>\n",
              "      <td>0</td>\n",
              "      <td>1.00000</td>\n",
              "      <td>0.000000</td>\n",
              "      <td>0.000000</td>\n",
              "      <td>1</td>\n",
              "    </tr>\n",
              "    <tr>\n",
              "      <th>4</th>\n",
              "      <td>2</td>\n",
              "      <td>0</td>\n",
              "      <td>4</td>\n",
              "      <td>2</td>\n",
              "      <td>69</td>\n",
              "      <td>11</td>\n",
              "      <td>91</td>\n",
              "      <td>13</td>\n",
              "      <td>69756</td>\n",
              "      <td>1</td>\n",
              "      <td>1</td>\n",
              "      <td>0</td>\n",
              "      <td>2</td>\n",
              "      <td>0.00000</td>\n",
              "      <td>0.141125</td>\n",
              "      <td>0.000000</td>\n",
              "      <td>4</td>\n",
              "    </tr>\n",
              "  </tbody>\n",
              "</table>\n",
              "</div>"
            ],
            "text/plain": [
              "   Supplies Subgroup  ...  Deal Size Category\n",
              "0                  2  ...                   1\n",
              "1                  2  ...                   1\n",
              "2                  5  ...                   1\n",
              "3                  8  ...                   1\n",
              "4                  2  ...                   4\n",
              "\n",
              "[5 rows x 17 columns]"
            ]
          },
          "metadata": {
            "tags": []
          },
          "execution_count": 8
        }
      ]
    },
    {
      "cell_type": "code",
      "metadata": {
        "id": "icU0mviJvDo3",
        "colab_type": "code",
        "colab": {}
      },
      "source": [
        "from sklearn.model_selection import train_test_split\n",
        "data_train, data_test, target_train, target_test = train_test_split(data,target, test_size = 0.30, random_state = 10)"
      ],
      "execution_count": 9,
      "outputs": []
    },
    {
      "cell_type": "markdown",
      "metadata": {
        "id": "jK9nVJ-oxHRe",
        "colab_type": "text"
      },
      "source": [
        "***Choosing an alogrithm:***\n",
        "https://scikit-learn.org/stable/tutorial/machine_learning_map/"
      ]
    },
    {
      "cell_type": "markdown",
      "metadata": {
        "id": "gKr-hsAVDjRO",
        "colab_type": "text"
      },
      "source": [
        "Navie-Byes (Gaussian Navie Byes) Algorithm :-"
      ]
    },
    {
      "cell_type": "code",
      "metadata": {
        "id": "FL-pJkCc6cgQ",
        "colab_type": "code",
        "colab": {
          "base_uri": "https://localhost:8080/",
          "height": 34
        },
        "outputId": "57ab2172-4b8f-4294-f964-97bb9ac734db"
      },
      "source": [
        "# import the necessary module\n",
        "from sklearn.naive_bayes import GaussianNB\n",
        "from sklearn.metrics import accuracy_score\n",
        "#create an object of the type GaussianNB\n",
        "gnb = GaussianNB()\n",
        "#train the algorithm on training data and predict using the testing data\n",
        "pred1 = gnb.fit(data_train, target_train).predict(data_test)\n",
        "#print(pred.tolist())\n",
        "#print the accuracy score of the model\n",
        "print(\"Naive-Bayes accuracy : \",accuracy_score(target_test, pred1, normalize = True))"
      ],
      "execution_count": 10,
      "outputs": [
        {
          "output_type": "stream",
          "text": [
            "Naive-Bayes accuracy :  0.7590567327409433\n"
          ],
          "name": "stdout"
        }
      ]
    },
    {
      "cell_type": "markdown",
      "metadata": {
        "id": "LKWfJDN5JfIC",
        "colab_type": "text"
      },
      "source": [
        "LinearSVC Alogrithm :-"
      ]
    },
    {
      "cell_type": "code",
      "metadata": {
        "id": "TOxTM4-hDYmW",
        "colab_type": "code",
        "colab": {
          "base_uri": "https://localhost:8080/",
          "height": 34
        },
        "outputId": "603a2cbc-0c4f-4af8-ce55-c56814ec9250"
      },
      "source": [
        "#import the necessary modules\n",
        "from sklearn.svm import LinearSVC\n",
        "from sklearn.metrics import accuracy_score\n",
        "#create an object of type LinearSVC\n",
        "svc_model = LinearSVC(random_state=0, dual=False)\n",
        "#train the algorithm on training data and predict using the testing data\n",
        "pred2 = svc_model.fit(data_train, target_train).predict(data_test)\n",
        "#print the accuracy score of the model\n",
        "print(\"LinearSVC accuracy : \",accuracy_score(target_test, pred2, normalize = True))"
      ],
      "execution_count": 11,
      "outputs": [
        {
          "output_type": "stream",
          "text": [
            "LinearSVC accuracy :  0.7717874231032126\n"
          ],
          "name": "stdout"
        }
      ]
    },
    {
      "cell_type": "markdown",
      "metadata": {
        "id": "GLXm9U2D6Nqt",
        "colab_type": "text"
      },
      "source": [
        "K-NeighboursClassifier Algorithm :-"
      ]
    },
    {
      "cell_type": "code",
      "metadata": {
        "id": "oYj3_TW6Hyx4",
        "colab_type": "code",
        "colab": {
          "base_uri": "https://localhost:8080/",
          "height": 34
        },
        "outputId": "4cd9967f-ab25-4f38-c2a6-f09c2642c353"
      },
      "source": [
        "#import necessary modules\n",
        "from sklearn.neighbors import KNeighborsClassifier\n",
        "from sklearn.metrics import accuracy_score\n",
        "#create object of the lassifier\n",
        "neigh = KNeighborsClassifier(n_neighbors=3)\n",
        "#Train the algorithm\n",
        "neigh.fit(data_train, target_train)\n",
        "# predict the response\n",
        "pred3 = neigh.predict(data_test)\n",
        "# evaluate accuracy\n",
        "print (\"KNeighbors accuracy score : \",accuracy_score(target_test, pred3))"
      ],
      "execution_count": 12,
      "outputs": [
        {
          "output_type": "stream",
          "text": [
            "KNeighbors accuracy score :  0.8145505809979494\n"
          ],
          "name": "stdout"
        }
      ]
    },
    {
      "cell_type": "code",
      "metadata": {
        "id": "SGyPDuD96eQ-",
        "colab_type": "code",
        "colab": {
          "base_uri": "https://localhost:8080/",
          "height": 51
        },
        "outputId": "988f39d3-f882-4b57-c32f-3549a569b254"
      },
      "source": [
        "#checking how many n_neighbours is the best in the case\n",
        "\n",
        "# Grid Search Method\n",
        "from sklearn.model_selection import GridSearchCV\n",
        "#create a dictionary of all values we want to test for n_neighbors\n",
        "param_grid = {'n_neighbors': np.arange(1, 30)}\n",
        "#use gridsearch to test all values for n_neighbors\n",
        "knn_gscv = GridSearchCV(KNeighborsClassifier(), param_grid, cv=5)\n",
        "#fit model to data\n",
        "knn_gscv.fit(data_test, target_test)\n",
        "print(knn_gscv.best_params_)\n",
        "\n",
        "# Random Search Method\n",
        "from sklearn.model_selection import RandomizedSearchCV\n",
        "clf = RandomizedSearchCV(KNeighborsClassifier(), param_grid, random_state=0)\n",
        "search = clf.fit(data_test, target_test)\n",
        "print(search.best_params_)"
      ],
      "execution_count": 13,
      "outputs": [
        {
          "output_type": "stream",
          "text": [
            "{'n_neighbors': 9}\n",
            "{'n_neighbors': 6}\n"
          ],
          "name": "stdout"
        }
      ]
    },
    {
      "cell_type": "code",
      "metadata": {
        "id": "A8ACqqkjCByl",
        "colab_type": "code",
        "colab": {}
      },
      "source": [
        ""
      ],
      "execution_count": 13,
      "outputs": []
    }
  ]
}